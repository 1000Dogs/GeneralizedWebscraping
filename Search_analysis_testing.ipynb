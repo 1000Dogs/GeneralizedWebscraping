{
 "cells": [
  {
   "cell_type": "code",
   "execution_count": 1,
   "metadata": {},
   "outputs": [
    {
     "name": "stderr",
     "output_type": "stream",
     "text": [
      "d:\\NonSytemInfo\\Python\\lib\\site-packages\\gevent\\hub.py:161: UserWarning: libuv only supports millisecond timer resolution; all times less will be set to 1 ms\n",
      "  with loop.timer(seconds, ref=ref) as t:\n"
     ]
    }
   ],
   "source": [
    "import sqlite3\n",
    "import networkx as nx\n",
    "import matplotlib.pyplot as plt\n",
    "import matplotlib.patches as ptch\n",
    "\n",
    "from search_analysis import search_analysis\n",
    "import numpy as np\n",
    "import pandas as pd\n",
    "import validators\n",
    "import math\n",
    "from pyvis.network import Network\n",
    "\n",
    "from bs4 import BeautifulSoup\n",
    "import requests\n",
    "from collections import deque\n",
    "import time\n",
    "import re\n",
    "\n",
    "from Search import Search\n",
    "\n",
    "\n",
    "import sys\n",
    "\n",
    "# from Search import Search\n",
    "\n",
    "%load_ext autoreload\n",
    "%autoreload 2"
   ]
  },
  {
   "cell_type": "code",
   "execution_count": 2,
   "metadata": {},
   "outputs": [
    {
     "name": "stderr",
     "output_type": "stream",
     "text": [
      "d:\\NonSytemInfo\\Python\\lib\\site-packages\\gevent\\hub.py:161: UserWarning: libuv only supports millisecond timer resolution; all times less will be set to 1 ms\n",
      "  with loop.timer(seconds, ref=ref) as t:\n"
     ]
    }
   ],
   "source": [
    "search_obj : Search = pd.read_pickle(\"very_small_test.pickle\")"
   ]
  },
  {
   "cell_type": "code",
   "execution_count": null,
   "metadata": {},
   "outputs": [],
   "source": [
    "len(search_obj.cve_set)"
   ]
  },
  {
   "cell_type": "code",
   "execution_count": null,
   "metadata": {},
   "outputs": [],
   "source": [
    "len(search_analysis.cve_sets[\"dec_2022_1\"])"
   ]
  },
  {
   "cell_type": "code",
   "execution_count": 3,
   "metadata": {},
   "outputs": [
    {
     "name": "stderr",
     "output_type": "stream",
     "text": [
      "d:\\NonSytemInfo\\Python\\lib\\site-packages\\gevent\\hub.py:161: UserWarning: libuv only supports millisecond timer resolution; all times less will be set to 1 ms\n",
      "  with loop.timer(seconds, ref=ref) as t:\n"
     ]
    }
   ],
   "source": [
    "# con = sqlite3.connect(\"cve_july.db\")\n",
    "toy_set = search_analysis(pickled_search=search_obj)\n",
    "# con.close()"
   ]
  },
  {
   "cell_type": "code",
   "execution_count": 13,
   "metadata": {},
   "outputs": [
    {
     "data": {
      "text/html": [
       "<div>\n",
       "<style scoped>\n",
       "    .dataframe tbody tr th:only-of-type {\n",
       "        vertical-align: middle;\n",
       "    }\n",
       "\n",
       "    .dataframe tbody tr th {\n",
       "        vertical-align: top;\n",
       "    }\n",
       "\n",
       "    .dataframe thead th {\n",
       "        text-align: right;\n",
       "    }\n",
       "</style>\n",
       "<table border=\"1\" class=\"dataframe\">\n",
       "  <thead>\n",
       "    <tr style=\"text-align: right;\">\n",
       "      <th></th>\n",
       "      <th>url</th>\n",
       "      <th>term</th>\n",
       "      <th>domain_url</th>\n",
       "    </tr>\n",
       "  </thead>\n",
       "  <tbody>\n",
       "    <tr>\n",
       "      <th>0</th>\n",
       "      <td>https://en.wikipedia.org/wiki/Duck</td>\n",
       "      <td>duck</td>\n",
       "      <td>en.wikipedia.org</td>\n",
       "    </tr>\n",
       "    <tr>\n",
       "      <th>1</th>\n",
       "      <td>https://en.wikipedia.org/w/index.php?title=Duc...</td>\n",
       "      <td>duck</td>\n",
       "      <td>en.wikipedia.org</td>\n",
       "    </tr>\n",
       "  </tbody>\n",
       "</table>\n",
       "</div>"
      ],
      "text/plain": [
       "                                                 url  term        domain_url\n",
       "0                 https://en.wikipedia.org/wiki/Duck  duck  en.wikipedia.org\n",
       "1  https://en.wikipedia.org/w/index.php?title=Duc...  duck  en.wikipedia.org"
      ]
     },
     "execution_count": 13,
     "metadata": {},
     "output_type": "execute_result"
    },
    {
     "name": "stderr",
     "output_type": "stream",
     "text": [
      "d:\\NonSytemInfo\\Python\\lib\\site-packages\\gevent\\hub.py:161: UserWarning: libuv only supports millisecond timer resolution; all times less will be set to 1 ms\n",
      "  with loop.timer(seconds, ref=ref) as t:\n"
     ]
    }
   ],
   "source": [
    "toy_set.term_url"
   ]
  },
  {
   "cell_type": "code",
   "execution_count": null,
   "metadata": {},
   "outputs": [],
   "source": [
    "toy_set.pickle_data(folder_location='pickled_dfs')"
   ]
  },
  {
   "cell_type": "code",
   "execution_count": null,
   "metadata": {},
   "outputs": [],
   "source": [
    "len(set(toy_set.cve_anal_df[\"cve\"].to_list()))"
   ]
  },
  {
   "cell_type": "code",
   "execution_count": null,
   "metadata": {},
   "outputs": [],
   "source": [
    "A= pd.Series(search_obj.edge_list).explode().reset_index()\n",
    "# pd.Series(search_obj.cve_url_pairs).explode().index\n",
    "A.rename(columns={\"index\" : \"url\", 0 : \"link\"}, inplace=True)"
   ]
  },
  {
   "cell_type": "code",
   "execution_count": null,
   "metadata": {},
   "outputs": [],
   "source": [
    "toy_set.append_num_cve_per_url()"
   ]
  },
  {
   "cell_type": "code",
   "execution_count": null,
   "metadata": {},
   "outputs": [],
   "source": [
    "toy_set.cve_anal_df"
   ]
  },
  {
   "cell_type": "code",
   "execution_count": null,
   "metadata": {},
   "outputs": [],
   "source": [
    "toy_set.cve_url[toy_set.cve_url[\"cve\"] == \"2022-35914\"]"
   ]
  },
  {
   "cell_type": "code",
   "execution_count": null,
   "metadata": {},
   "outputs": [],
   "source": [
    "used = toy_set.cve_url\n",
    "used.loc[used[\"cve\"] == \"2022-35914\", \"url\"].drop_duplicates() "
   ]
  },
  {
   "cell_type": "markdown",
   "metadata": {},
   "source": [
    "### Testing Search Result overlap With Linked Urls, Currently SR > L_URL"
   ]
  },
  {
   "cell_type": "code",
   "execution_count": null,
   "metadata": {},
   "outputs": [],
   "source": [
    "con = sqlite3.connect(\"cve_july.db\")\n",
    "all = pd.read_sql(\"SELECT DISTINCT url, cve FROM linked_urls \", con)\n",
    "\n",
    "all = all.loc[all['cve'].isin(toy_set.analyzed_cve_set), \"url\"]\n",
    "\n",
    "seeds = pd.read_sql(\"SELECT DISTINCT url, cve FROM search_results\", con)\n",
    "seeds = seeds.loc[seeds['cve'].isin(toy_set.analyzed_cve_set), \"url\"]\n",
    "con.close()\n"
   ]
  },
  {
   "cell_type": "code",
   "execution_count": null,
   "metadata": {},
   "outputs": [],
   "source": [
    "all = set(all)\n",
    "seeds = set(seeds)\n",
    "# #cves * #seeds * #rel link on average ~= #rel_searches\n",
    "seeds"
   ]
  },
  {
   "cell_type": "markdown",
   "metadata": {},
   "source": [
    "### Testing to ensure the found CVES are the same as the promised cves"
   ]
  },
  {
   "cell_type": "code",
   "execution_count": null,
   "metadata": {},
   "outputs": [],
   "source": [
    "con = sqlite3.connect(\"cve_july.db\")\n",
    "linked_cves = pd.read_sql(\"SELECT DISTINCT cve FROM linked_urls\", con)\n",
    "con.close()"
   ]
  },
  {
   "cell_type": "code",
   "execution_count": null,
   "metadata": {},
   "outputs": [],
   "source": [
    "linkcve = set(linked_cves['cve'])\n",
    "deccve = set(toy_set.analyzed_cve_set)\n",
    "\n",
    "print(f\"linked urls cve set has len = {len(linkcve)}\")\n",
    "print(f\"december cve set has len = {len(deccve)}\")\n",
    "print(f\"their intersection has len = {len(deccve.intersection(linkcve))}\")\n",
    "print(f\"their symmertric difference has len = {len(deccve.symmetric_difference(linkcve))}\")\n",
    "\n",
    "linkcve < deccve\n"
   ]
  },
  {
   "cell_type": "code",
   "execution_count": null,
   "metadata": {},
   "outputs": [],
   "source": [
    "keys = list(search_analysis.cve_sets.keys())\n",
    "\n",
    "dec_keys = []\n",
    "\n",
    "for i in keys:\n",
    "    if str.__contains__(i, \"dec\"):\n",
    "        dec_keys.append(i)\n",
    "\n",
    "dec_sets = [search_analysis.cve_sets[i] for i in keys]\n",
    "dec_cve_set = set().union(*dec_sets)\n",
    "\n",
    "\n",
    "jul_keys = []\n",
    "\n",
    "for i in keys:\n",
    "    if str.__contains__(i, \"jul\"):\n",
    "        jul_keys.append(i)\n",
    "\n",
    "jul_sets = [search_analysis.cve_sets[i] for i in keys]\n",
    "\n",
    "jul_cve_set = set().union(*jul_sets)\n"
   ]
  },
  {
   "cell_type": "code",
   "execution_count": null,
   "metadata": {},
   "outputs": [],
   "source": [
    "dec_cve_set.symmetric_difference(jul_cve_set)"
   ]
  },
  {
   "cell_type": "code",
   "execution_count": null,
   "metadata": {},
   "outputs": [],
   "source": []
  },
  {
   "cell_type": "markdown",
   "metadata": {},
   "source": [
    "## General Unit Testing, does not test for correct outputs just correct types and no crashes"
   ]
  },
  {
   "cell_type": "code",
   "execution_count": null,
   "metadata": {},
   "outputs": [],
   "source": [
    "### BIG TEST ###\n",
    "# assumes toy_set loaded\n",
    "\n",
    "cve_set = toy_set.get_cve_set()\n",
    "seeds = toy_set.seeds\n",
    "domains = pd.unique(toy_set.get_domain_set())\n",
    "\n",
    "print(\"---testing all cve related methods---\")\n",
    "\n",
    "print(cve_set.__contains__(\"source\"))\n",
    "\n",
    "counter = 0\n",
    "for cve in cve_set:\n",
    "    if counter % int(len(cve_set)/100) == 0:\n",
    "        print(f\"{str(100 * counter/len(cve_set))[0:5]}%\")\n",
    "    counter += 1   \n",
    "    assert isinstance(toy_set.get_cvss_score(cve, version='3'), float), \"get cvss broken\"\n",
    "\n",
    "    assert isinstance(toy_set.resource_per_cve(cve), int), \"resource_per_cve default broken\"\n",
    "    assert isinstance(toy_set.resource_per_cve(cve, return_list=True), pd.Series), \"resource_per_cve list broken\"\n",
    "    assert isinstance(toy_set.resource_per_cve(cve, unique_domain=True), int), \"resource_per_cve unique broken\"\n",
    "    assert isinstance(toy_set.resource_per_cve(cve, return_list=True, unique_domain=True), pd.Series), \"resource_per_cve unique, list broken\"\n",
    "\n",
    "    assert isinstance(toy_set.num_connected_components_by_cve(cve), int), \"num_connected_components_by_cve default broken\"\n",
    "    assert isinstance(toy_set.num_connected_components_by_cve(cve, by_domain=True), int), \"num_connected_components_by_cve domain broken\"\n",
    "\n",
    "    assert isinstance(toy_set.get_reciprocity(cve), float), f\"get_reciprocity default broken at {cve}\"\n",
    "    assert isinstance(toy_set.get_reciprocity(cve, by_domain=True), float), \"get_reciprocity domain broken\"\n",
    "\n",
    "    assert isinstance(toy_set.get_restricted_edge_set(cve), tuple), \"get_restricted_edge_set default broken\"\n",
    "    assert isinstance(toy_set.get_restricted_edge_set(cve, by_domain=True), tuple), \"get_restricted_edge_set domain broken\"\n",
    "        \n",
    "\n",
    "\n",
    "\n"
   ]
  },
  {
   "cell_type": "code",
   "execution_count": null,
   "metadata": {},
   "outputs": [],
   "source": [
    "print(\"---testing all seed related methods---\")\n",
    "counter = 0\n",
    "for seed in seeds:\n",
    "    if counter % int(len(seeds)/10) == 0:\n",
    "        print(f\"{str(100 * counter/len(seeds))[0:5]}%\")\n",
    "    counter += 1\n",
    "\n",
    "    assert isinstance(toy_set.get_cve_per_seed(domain=seed), int), \"get cve per seed broken\"\n",
    "    assert isinstance(toy_set.get_cve_per_seed(domain=seed, return_cve_set=True), set), f\"get cve per seed (set) broken at {seed}, {toy_set.get_cve_per_seed(domain=seed, return_cve_set=True)}\"\n",
    "\n"
   ]
  },
  {
   "cell_type": "code",
   "execution_count": null,
   "metadata": {},
   "outputs": [],
   "source": [
    "print(\"---testing all domain related methods---\")\n",
    "for domain in domains:\n",
    "    assert isinstance(toy_set.get_cves_at_domain(domain), np.ndarray), \"get_cves_at_domain default broken\"\n",
    "    assert isinstance(toy_set.get_cves_at_domain(domain, return_list=False), int), \"get_cves_at_domain int broken\"\n",
    "\n",
    "    assert isinstance(toy_set.get_url_by_domain(domain), pd.Series), \"get_url_by_domain broken\" #currently not testing other edge lists\n",
    "\n",
    "\n",
    "\n",
    "print(\"---testing all misc methods---\")\n",
    "\n",
    "try:\n",
    "    toy_set.get_num_seeds_per_cve()\n",
    "except:\n",
    "    print(\"get_num_seeds_per_cve broken\")\n",
    "\n",
    "try:\n",
    "    toy_set.get_cve_per_domain()\n",
    "except:\n",
    "    print(\"get_cve_per_domain broken\")\n",
    "\n",
    "try:\n",
    "    toy_set.gen_correlation_matrix()\n",
    "except:\n",
    "    print(\"gen_correlation_matrix broken\")"
   ]
  },
  {
   "cell_type": "code",
   "execution_count": null,
   "metadata": {},
   "outputs": [],
   "source": [
    "toy_set.append_cve_per_seed()\n",
    "\n",
    "toy_set.append_resource_per_cve()\n",
    "\n",
    "toy_set.append_resource_per_cve(by_domain=True, reappend=True)\n",
    "\n",
    "toy_set.append_ee_score()\n",
    "\n",
    "toy_set.append_cvss_score()\n",
    "\n",
    "toy_set.append_num_cve_per_url()\n",
    "\n",
    "toy_set.append_num_connected_components()\n",
    "\n",
    "toy_set.append_num_connected_components(by_domain=True, reappend=True)\n"
   ]
  },
  {
   "cell_type": "markdown",
   "metadata": {},
   "source": [
    "### General overlap testing for various parts of the data set"
   ]
  },
  {
   "cell_type": "code",
   "execution_count": null,
   "metadata": {},
   "outputs": [],
   "source": [
    "con = sqlite3.connect(\"cve_partial.db\")\n",
    "all_searches = pd.read_sql(\"SELECT DISTINCT url FROM search_results\", con=con)\n",
    "all_searches = all_searches[\"url\"].to_list()\n",
    "\n",
    "# searches = pd.read_sql(\"SELECT DISTINCT url FROM search_results WHERE url IN (SELECT DISTINCT url FROM linked_urls) \", con=con)\n",
    "urls = pd.read_sql(sql=\"SELECT DISTINCT url FROM linked_urls\", con=con)\n",
    "urls = urls[\"url\"].to_list()\n",
    "\n",
    "\n",
    "con.close()"
   ]
  },
  {
   "cell_type": "code",
   "execution_count": null,
   "metadata": {},
   "outputs": [],
   "source": [
    "# print(f\"num of relevent searches: {all_searches.drop_duplicates()}\")\n",
    "print(f\"num of distinct urls in search_results: {len(set(all_searches))}\")\n",
    "# print(all_searches)\n",
    "\n",
    "print(f\"num distinct urls in linked_urls: {len(set(urls))}\")\n",
    "# print(f\"num source nodes in graph set: {len(set(urls.shape))}\")\n",
    "\n",
    "\n",
    "print(f\"symmetric differnece between the two: {len(set(all_searches).symmetric_difference(set(urls)))}\")\n",
    "print(f\"intersection between the two: {len(set(all_searches).intersection(set(urls)))}\")\n",
    "print(f\"search results superset of urls?: {set(all_searches) > set(urls)}\")\n",
    "\n",
    "\n",
    "\n",
    "# print(all_searches.merge(right=urls, how=\"inner\", on=\"url\").shape)\n"
   ]
  },
  {
   "cell_type": "code",
   "execution_count": null,
   "metadata": {},
   "outputs": [],
   "source": [
    "con = sqlite3.connect(database=\"cve_july.db\")\n",
    "\n",
    "seeds = pd.read_sql(\"SELECT DISTINCT url, cve FROM search_results\", con)\n",
    "seeds = seeds.loc[seeds['cve'].isin(toy_set.analyzed_cve_set), \"url\"]\n",
    "con.close()"
   ]
  },
  {
   "cell_type": "code",
   "execution_count": null,
   "metadata": {},
   "outputs": [],
   "source": [
    "# set(toy_set.cve_df[toy_set.cve_df[\"cve\"] == \"2014-0160\"][\"url\"]) - set(toy_set.get_restricted_edge_set(\"2014-0160\")[\"url\"])\n",
    "\n",
    "cve_df_urls = set(pd.unique(toy_set.cve_url[\"url\"]))\n",
    "edge_list_urls = set(pd.unique(toy_set.edge_list[\"url\"]))\n",
    "edge_list_links = set(pd.unique(toy_set.edge_list[\"link\"]))\n",
    "\n",
    "edge_list_nodes = set.union(edge_list_urls, edge_list_links)\n",
    "\n",
    "all_nodes = set.union(edge_list_urls, cve_df_urls, edge_list_links)\n",
    "\n",
    "seed_set = set(seeds.to_list())\n",
    "\n",
    "\n",
    "print(f\"len of cve_df_urls: {len(cve_df_urls)}\")\n",
    "print(f\"len of edge_list_urls: {len(edge_list_urls)}\")\n",
    "print(f\"len of edge_list_links: {len(edge_list_links)}\")\n",
    "print(f\"len of all_nodes(edge_list_urls + edge_list_links + cve_df_urls): {len(all_nodes)}\")\n",
    "print(f\"len of cve_df_urls - edge_list_nodes: {len(cve_df_urls - edge_list_nodes)}\")\n",
    "print(f\"len of edge_list_nodes - cve_df_urls: {len(edge_list_nodes - cve_df_urls)}\")\n",
    "\n",
    "print(f\"difference of all nodes and search results nodes should not be zero{len(all_nodes - seed_set)}\")\n",
    "\n",
    "\n",
    "\n",
    "\n",
    "\n",
    "'''# set(toy_set.seeds) > set(pd.unique(toy_set.cve_df[~toy_set.cve_df[\"url\"].isin(all_nodes)][\"domain_url\"]))\n",
    "\n",
    "# edges_start = set(pd.unique(edges[\"url\"]))\n",
    "# stunted = set(pd.unique(stunted_nodes[\"url\"]))\n",
    "# print(f\"len of edges_start: {len(edges_start)}\")\n",
    "# print(f\"len of stunted: {len(stunted)}\")\n",
    "# print(f\"len of edges_start union stunted: {len(edges_start.union(stunted))}\")\n",
    "\n",
    "# edges_start < stunted # True so stunted is the superset, which makes sense\n",
    "\n",
    "# stunted == cve_df_urls # True which also makes sense\n",
    "\n",
    "\n",
    "\n",
    "\n",
    "\n",
    "# toy_set.edge_list[toy_set.edge_list[\"url\"] == \"https://heartbleed.com/\"]''';\n",
    "\n",
    "\n",
    "seeds[seeds.str.contains(\"woody\")]"
   ]
  },
  {
   "cell_type": "markdown",
   "metadata": {},
   "source": [
    "### Build the big graph"
   ]
  },
  {
   "cell_type": "code",
   "execution_count": 12,
   "metadata": {},
   "outputs": [
    {
     "name": "stderr",
     "output_type": "stream",
     "text": [
      "d:\\NonSytemInfo\\Python\\lib\\site-packages\\gevent\\hub.py:161: UserWarning: libuv only supports millisecond timer resolution; all times less will be set to 1 ms\n",
      "  with loop.timer(seconds, ref=ref) as t:\n"
     ]
    }
   ],
   "source": [
    "g = toy_set.build_graph_from_edgelist(toy_set.edge_list, source=\"url\", target=\"link\", remove_self_loop=True, ignore_root=True)\n",
    "# g = nx.from_pandas_edgelist(df=toy_set.edge_list, source=\"domain_url\", target=\"domain_link\", create_using=nx.DiGraph)\n",
    "net = Network(directed=True, select_menu=True, filter_menu=True,neighborhood_highlight=True)\n",
    "net.from_nx(g)\n",
    "net.show(\"torus.html\")"
   ]
  },
  {
   "cell_type": "code",
   "execution_count": null,
   "metadata": {},
   "outputs": [],
   "source": [
    "test = nx.to_pandas_adjacency(g, dtype=bool)"
   ]
  },
  {
   "cell_type": "markdown",
   "metadata": {},
   "source": [
    "### Various Graph Generations"
   ]
  },
  {
   "cell_type": "code",
   "execution_count": null,
   "metadata": {},
   "outputs": [],
   "source": [
    "toy_set.append_cvss_score()\n",
    "toy_set.append_resource_per_cve(reappend=True)\n",
    "\n",
    "data = toy_set.cve_anal_df[[\"cve\", \"cvss_score\", \"resource_per_cve\"]].dropna()\n",
    "fig, ax = plt.subplots()\n",
    "\n",
    "ax.set_xlabel(\"cvss_score\")\n",
    "ax.set_ylabel(\"# resources\")\n",
    "ax.set_yscale(\"log\")\n",
    "\n",
    "ax.scatter(y = data[\"resource_per_cve\"], x = data[\"cvss_score\"])\n"
   ]
  },
  {
   "cell_type": "code",
   "execution_count": null,
   "metadata": {},
   "outputs": [],
   "source": [
    "toy_set.append_cvss_score()\n",
    "toy_set.append_ee_score()\n",
    "\n",
    "data = toy_set.cve_anal_df[[\"cve\", \"cvss_score\", \"ee_score\"]].dropna()\n",
    "fig, ax = plt.subplots()\n",
    "\n",
    "ax.set_ylabel(\"cvss_score\")\n",
    "ax.set_xlabel(\"ee_score\")\n",
    "ax.scatter(x = data[\"ee_score\"], y = data[\"cvss_score\"])"
   ]
  },
  {
   "cell_type": "code",
   "execution_count": null,
   "metadata": {},
   "outputs": [],
   "source": [
    "plt.hist(toy_set.cve_anal_df[\"resource_per_cve\"])\n",
    "plt.yscale(\"log\")"
   ]
  },
  {
   "cell_type": "code",
   "execution_count": null,
   "metadata": {},
   "outputs": [],
   "source": [
    "toy_set.gen_cvss_vs_resource_per_cve()\n"
   ]
  },
  {
   "cell_type": "code",
   "execution_count": null,
   "metadata": {},
   "outputs": [],
   "source": [
    "fig, ax = toy_set.gen_cve_per_domain(stacked=True)\n",
    "\n",
    "ax.set_yscale(\"log\")\n",
    "\n",
    "toy_set.cve_url[toy_set.cve_url[\"domain_url\"] == 'zigrin.com']"
   ]
  },
  {
   "cell_type": "code",
   "execution_count": null,
   "metadata": {},
   "outputs": [],
   "source": [
    "min(toy_set.get_cve_per_domain(unique=False)['cve'])"
   ]
  },
  {
   "cell_type": "code",
   "execution_count": null,
   "metadata": {},
   "outputs": [],
   "source": [
    "fig, ax = toy_set.gen_cve_per_seeds()\n",
    "ax.set_yscale(\"log\")"
   ]
  },
  {
   "cell_type": "code",
   "execution_count": null,
   "metadata": {},
   "outputs": [],
   "source": [
    "toy_set.seed_anal_df\n",
    "# toy_set.cve_url[toy_set.cve_url[\"domain_url\"].str.contains(\"dhs\")]"
   ]
  },
  {
   "cell_type": "code",
   "execution_count": null,
   "metadata": {},
   "outputs": [],
   "source": [
    "#Correlation matrix\n",
    "a = toy_set.gen_correlation_matrix()"
   ]
  },
  {
   "cell_type": "code",
   "execution_count": null,
   "metadata": {},
   "outputs": [],
   "source": [
    "#Show corelation matrix\n",
    "g : nx.DiGraph = nx.from_pandas_adjacency(df = a, create_using=nx.DiGraph)\n",
    "\n",
    "net = Network(directed=True, bgcolor=\"#222222\", font_color=\"white\", select_menu=True)\n",
    "net.force_atlas_2based()\n",
    "net.from_nx(g, edge_weight_transf=lambda x : x, edge_scaling=True)\n",
    "net.show_buttons(filter_=['physics'])\n",
    "net.show(\"correlation_matrix.html\")"
   ]
  },
  {
   "cell_type": "code",
   "execution_count": null,
   "metadata": {},
   "outputs": [],
   "source": [
    "#centrality testing\n",
    "conectivity_test = nx.from_pandas_edgelist(toy_set.edge_list, source=\"domain_url\", target=\"domain_link\", create_using=nx.DiGraph)\n",
    "b = nx.closeness_centrality(conectivity_test)\n",
    "\n",
    "\n",
    "domains[\"connectivity\"] = domains[\"domain_url\"].map(b)\n",
    "domains[\"cve_per_domain\"] = domains[\"domain_url\"].map(lambda x : toy_set.get_cves_at_domain(domain=x, return_list=False))"
   ]
  },
  {
   "cell_type": "code",
   "execution_count": null,
   "metadata": {},
   "outputs": [],
   "source": [
    "#centrality testing\n",
    "plt.hist(x=domains[\"connectivity\"])\n",
    "plt.ylabel(\"connectivity\")\n",
    "\n",
    "plt.yscale(\"log\")\n"
   ]
  },
  {
   "cell_type": "code",
   "execution_count": null,
   "metadata": {},
   "outputs": [],
   "source": [
    "#centrality testing\n",
    "cves = toy_set.get_cve_set()\n",
    "\n",
    "g : nx.DiGraph = nx.from_pandas_edgelist(toy_set.edge_list, source=\"domain_url\", target=\"domain_link\", create_using=nx.DiGraph)\n",
    "\n",
    "net = Network(directed=True, bgcolor=\"#3d3d3d\", font_color=\"white\")\n",
    "net.from_nx(g)\n",
    "net.force_atlas_2based()\n",
    "\n",
    "\n",
    "\n",
    "for node in net.nodes:\n",
    "    node[\"color\"] = \"#04f2b2\" if node[\"id\"] in list(domains.loc[domains[\"connectivity\"] < 0.075, \"domain_url\"]) else \"#04baf2\"\n",
    "\n",
    "net.show(\"connectivity.html\")"
   ]
  },
  {
   "cell_type": "code",
   "execution_count": null,
   "metadata": {},
   "outputs": [],
   "source": [
    "toy_set.append_num_seeds_per_cve(reappend=True)"
   ]
  },
  {
   "cell_type": "code",
   "execution_count": null,
   "metadata": {},
   "outputs": [],
   "source": [
    "plt.scatter(toy_set.cve_anal_df['num_seeds_per_cve'], toy_set.cve_anal_df['num_connected_components'])\n",
    "plt.xlabel('# seeds per cve')\n",
    "plt.ylabel('# connected components')\n",
    "# plt.yscale('log')\n",
    "\n",
    "plt.title('CVSS Versus Number of Seeds')\n",
    "\n"
   ]
  },
  {
   "cell_type": "markdown",
   "metadata": {},
   "source": [
    "### Wierd Metric"
   ]
  },
  {
   "cell_type": "code",
   "execution_count": 70,
   "metadata": {},
   "outputs": [],
   "source": [
    "def num_con_d(x:nx.Graph, y:nx.Graph):\n",
    "    # x_undir = nx.to_undirected(x)\n",
    "    num_cons_x : int = nx.number_connected_components(x)\n",
    "    # y_undir = nx.to_undirected(y)\n",
    "    num_cons_y : int = nx.number_connected_components(y)\n",
    "    union = nx.compose(x, y)\n",
    "    num_cons_union = nx.number_connected_components(union)\n",
    "    return num_cons_union / (num_cons_x + num_cons_y)\n",
    "\n",
    "def num_con_d_pre_calc(x:tuple, y:tuple):\n",
    "    union = nx.compose(x[0], y[0])\n",
    "    num_cons_union = nx.number_connected_components(union)\n",
    "    return num_cons_union / (x[1] + y[1])\n",
    "\n",
    "\n"
   ]
  },
  {
   "cell_type": "code",
   "execution_count": null,
   "metadata": {},
   "outputs": [],
   "source": [
    "cve_toy = list(toy_set.get_cve_set())\n",
    "num_cves = len(cve_toy) "
   ]
  },
  {
   "cell_type": "code",
   "execution_count": null,
   "metadata": {},
   "outputs": [],
   "source": [
    "restricted_edges = dict()\n",
    "\n",
    "for cve in cve_toy:\n",
    "    edges, nodes = toy_set.get_restricted_edge_set(cve, by_domain=False)\n",
    "    g : nx.Graph = nx.from_pandas_edgelist(edges, source=\"url\", target=\"link\", create_using=nx.Graph)\n",
    "    g.add_nodes_from(nodes)\n",
    "\n",
    "    restricted_edges[cve] = (g, nx.number_connected_components(g))"
   ]
  },
  {
   "cell_type": "code",
   "execution_count": null,
   "metadata": {},
   "outputs": [],
   "source": [
    "cve_adj = pd.DataFrame(data=np.zeros((num_cves,num_cves)), index=cve_toy, columns=cve_toy)\n",
    "\n",
    "\n",
    "\n",
    "count = 0\n",
    "for i in cve_toy:\n",
    "    if count % 10 == 0:\n",
    "        print(f'{str(100 * count / num_cves)[0:5]}% done, {num_cves - count} remaining')\n",
    "    count += 1\n",
    "    \n",
    "    x :nx.Graph = restricted_edges[i]\n",
    "    if len(x[0].nodes) == 0:\n",
    "        continue\n",
    "    for j in cve_toy:\n",
    "        if j >= i:\n",
    "            continue\n",
    "        y = restricted_edges[j]\n",
    "\n",
    "        if len(y[0].nodes) == 0:\n",
    "            continue\n",
    "\n",
    "        d_x_y = num_con_d_pre_calc(x, y)\n",
    "\n",
    "        if d_x_y > 0.6:\n",
    "             continue\n",
    "        \n",
    "        cve_adj.at[i,j] = d_x_y\n",
    "        cve_adj.at[j,i] = d_x_y\n",
    "\n",
    "\n",
    "\n",
    "\n"
   ]
  },
  {
   "cell_type": "code",
   "execution_count": null,
   "metadata": {},
   "outputs": [],
   "source": [
    "np.unique(np.array(cve_adj).flatten())\n"
   ]
  },
  {
   "cell_type": "code",
   "execution_count": null,
   "metadata": {},
   "outputs": [],
   "source": [
    "g : nx.Graph = nx.from_pandas_adjacency(cve_adj)\n",
    "g.remove_nodes_from(list(nx.isolates(g)))\n",
    "\n",
    "net = Network(directed=False, bgcolor=\"#222222\", font_color=\"white\")\n",
    "net.from_nx(g,  edge_scaling=False)\n",
    "net.force_atlas_2based()\n",
    "net.show(\"cve_distances.html\")"
   ]
  },
  {
   "cell_type": "markdown",
   "metadata": {},
   "source": [
    "### Get Size of SA"
   ]
  },
  {
   "cell_type": "code",
   "execution_count": null,
   "metadata": {},
   "outputs": [],
   "source": [
    "data = []\n",
    "for i in toy_set.__dict__.keys():\n",
    "    print(i)\n",
    "    data.append(i.__sizeof__())\n",
    "\n",
    "print(np.sum(data))\n",
    "print(pd.unique(toy_set.cve_anal_df.drop_duplicates()[\"ee_score\"]))"
   ]
  },
  {
   "cell_type": "markdown",
   "metadata": {},
   "source": [
    "### Get Set of Search Results"
   ]
  },
  {
   "cell_type": "code",
   "execution_count": null,
   "metadata": {},
   "outputs": [],
   "source": [
    "a = a[a['url'].isin(toy_set.url_found_in_search_set[\"url\"])]\n"
   ]
  },
  {
   "cell_type": "code",
   "execution_count": null,
   "metadata": {},
   "outputs": [],
   "source": [
    "set(toy_set.url_found_in_search_set[\"url\"]) == set(toy_set.cve_url[\"url\"])"
   ]
  },
  {
   "cell_type": "code",
   "execution_count": null,
   "metadata": {},
   "outputs": [],
   "source": [
    "a = toy_set.url_found_in_search_set[toy_set.url_found_in_search_set[\"cve\"] == '2022-27660']\n",
    "a"
   ]
  },
  {
   "cell_type": "code",
   "execution_count": null,
   "metadata": {},
   "outputs": [],
   "source": [
    "for i in list(a['url']):\n",
    "    print(i + ',')\n",
    "\n",
    "len(a)"
   ]
  },
  {
   "cell_type": "code",
   "execution_count": null,
   "metadata": {},
   "outputs": [],
   "source": [
    "session = requests.Session()\n",
    "headers = {\n",
    "    \"User-Agent\": \"Mozilla/5.0 (X11; CrOS x86_64 12871.102.0) AppleWebKit/537.36 (KHTML, like Gecko) Chrome/81.0.4044.141 Safari/537.36\"\n",
    "}\n",
    "con = sqlite3.connect(\"cve_july.db\")\n",
    "\n",
    "cves = ['2022-4731', '2022-3273', '2022-22477', '2022-3272', '2022-29465', '2022-2550']\n",
    "\n",
    "blocked_url_prefixes = {'packetstormsecurity.com/files/date',\n",
    "                        'packetstormsecurity.com/files/author/',\n",
    "                        'packetstormsecurity.com/files/download/',\n",
    "                        'isc.sans.edu/handler_list/',\n",
    "                        'cassandra.cerias.purdue.edu/CVE_changes',  # contains db of all CVE changes by month\n",
    "                        'cve.mitre.org/cgi-bin/cvekey.cgi?keyword=',\n",
    "                        'cve.mitre.org/data/refs/',\n",
    "                        'nvd.nist.gov/vuln/full-listing/',\n",
    "                        'nvd.nist.gov/vuln/search/results',\n",
    "                        'krebsonsecurity.com/tag/',\n",
    "                        'www.askwoody.com/forums/users/',\n",
    "                        'www.askwoody.com/author/'}\n",
    "\n",
    "document = open(\"new_cves.csv\", mode='w')\n",
    "\n",
    "for cve in cves:\n",
    "    a = pd.read_sql(f\"SELECT DISTINCT url FROM search_results WHERE cve = '{cve}'\", con)\n",
    "\n",
    "    print(len(list(a['url'])))\n",
    "\n",
    "    for url in list(a['url']):\n",
    "        should_be_blocked = False\n",
    "        for blocked in blocked_url_prefixes:\n",
    "            if str.__contains__(str.lower(url), str.lower(blocked)):\n",
    "                print('blocked: ' + url)\n",
    "                should_be_blocked = True\n",
    "                break\n",
    "        if should_be_blocked:\n",
    "            continue\n",
    "        \n",
    "        try:\n",
    "            request = session.get(url=url, headers=headers)\n",
    "        except:\n",
    "            print(\"url failed: \" + cve + ',' + url)\n",
    "            continue\n",
    "\n",
    "        soup = BeautifulSoup(request.content, 'html.parser')\n",
    "        soup_text = str.lower(soup.text)\n",
    "        if cve in soup_text:\n",
    "            document.write(cve + ',' + url + ',\\n')\n",
    "            \n",
    "        \n",
    "\n",
    "con.close()\n",
    "\n",
    "document.close()\n",
    "\n",
    "\n",
    "    "
   ]
  },
  {
   "cell_type": "code",
   "execution_count": null,
   "metadata": {},
   "outputs": [],
   "source": [
    "session = requests.Session()\n",
    "headers = {\n",
    "    \"User-Agent\": \"Mozilla/5.0 (X11; CrOS x86_64 12871.102.0) AppleWebKit/537.36 (KHTML, like Gecko) Chrome/81.0.4044.141 Safari/537.36\"\n",
    "}\n",
    "\n",
    "url = 'https://www.cisa.gov/news-events/bulletins/sb22-206'\n",
    "\n",
    "request = session.get(url=url, headers=headers)\n",
    "\n",
    "soup = BeautifulSoup(request.content, 'html.parser')\n"
   ]
  },
  {
   "cell_type": "markdown",
   "metadata": {},
   "source": [
    "### Reconstructing the man"
   ]
  },
  {
   "cell_type": "code",
   "execution_count": null,
   "metadata": {},
   "outputs": [],
   "source": [
    "high_cvss_high_count = set(['2022-4687', '2022-2493', '2022-2550', '2022-2829', '2022-4809', '2022-4800', '2022-3037', '2022-4767', '2022-3072', '2022-2652', '2022-4804', '2022-3520', '2022-2631', '2022-4802', '2022-4136', '2022-26346', '2022-4813', '2022-20842', '2022-2344', '2022-2626'])\n",
    "high_cvss_low_count = set(['2022-27660', '2022-41794', '2022-29465', '2022-22489', '2022-41649', '2022-24017', '2022-32774', '2022-35875', '2022-30690', '2022-20822', '2022-40649', '2022-35878', '2022-40644', '2022-34652', '2022-29468', '2022-28677', '2022-43599', '2022-32282', '2022-38097', '2022-40645'])\n",
    "med_cvss_high_count = set(['2022-20906', '2022-3326', '2022-3272', '2017-20151', '2022-2965', '2022-3869', '2022-3456', '2022-2353', '2022-22490', '2022-4414', '2021-4276', '2022-3002', '2022-4725', '2022-3364', '2022-4721', '2022-20800', '2022-3000', '2022-4719', '2022-4846', '2022-4810'])\n",
    "med_cvss_low_count =  set(['2022-20899', '2021-29790', '2022-22477', '2021-38936', '2022-35280', '2018-25053', '2022-36774', '2022-22373', '2022-20810', '2022-30613', '2022-43588', '2022-35722', '2022-35715', '2022-20880', '2022-43595', '2022-20882', '2022-20878', '2022-31774', '2022-20883', '2022-34162'])\n",
    "low_cvss_high_count =  set(['2022-2822', '2021-4283', '2022-3273', '2022-4617', '2022-3363', '2022-3457', '2022-4736', '2021-4277', '2022-4755', '2022-4820', '2022-4632', '2021-4285', '2017-20153', '2022-4823', '2022-4069', '2022-4614', '2022-4859', '2017-20155', '2022-4560', '2019-25088'])\n",
    "low_cvss_low_count =  set(['2022-22450', '2022-34874', '2022-4731', '2018-25054', '2022-28681', '2019-25091', '2018-25059', '2022-35286', '2020-36638', '2020-36634', '2021-39041', '2018-25060', '2020-36635', '2022-22455', '2020-36636', '2018-25051', '2022-28670', '2022-22460', '2022-44744', '2018-25055'])\n",
    "\n",
    "union = set.union(high_cvss_high_count, high_cvss_low_count, med_cvss_high_count, med_cvss_low_count, low_cvss_high_count, low_cvss_low_count)\n",
    "\n",
    "c = []\n",
    "\n",
    "for i in union:\n",
    "    if not toy_set.analyzed_cve_set.__contains__(i):\n",
    "        c.append(i)\n",
    "        \n",
    "\n",
    "print(len(union))"
   ]
  }
 ],
 "metadata": {
  "kernelspec": {
   "display_name": "Python 3",
   "language": "python",
   "name": "python3"
  },
  "language_info": {
   "codemirror_mode": {
    "name": "ipython",
    "version": 3
   },
   "file_extension": ".py",
   "mimetype": "text/x-python",
   "name": "python",
   "nbconvert_exporter": "python",
   "pygments_lexer": "ipython3",
   "version": "3.10.9"
  },
  "orig_nbformat": 4
 },
 "nbformat": 4,
 "nbformat_minor": 2
}
